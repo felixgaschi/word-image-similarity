{
 "cells": [
  {
   "cell_type": "markdown",
   "metadata": {
    "colab_type": "text",
    "id": "view-in-github"
   },
   "source": [
    "<a href=\"https://colab.research.google.com/github/felixgaschi/word-image-similarity/blob/master/demo.ipynb\" target=\"_parent\"><img src=\"https://colab.research.google.com/assets/colab-badge.svg\" alt=\"Open In Colab\"/></a>"
   ]
  },
  {
   "cell_type": "markdown",
   "metadata": {
    "colab_type": "text",
    "id": "lCPerEFE-6i4"
   },
   "source": [
    "# SpottingNet: Word image similarity"
   ]
  },
  {
   "cell_type": "code",
   "execution_count": 2,
   "metadata": {
    "colab": {},
    "colab_type": "code",
    "id": "9_ieDG44-_a1"
   },
   "outputs": [],
   "source": [
    "import numpy as np\n",
    "import os\n",
    "import csv\n",
    "from tqdm import tqdm_notebook\n",
    "import matplotlib.pyplot as plt"
   ]
  },
  {
   "cell_type": "markdown",
   "metadata": {},
   "source": [
    "## Features maps"
   ]
  },
  {
   "cell_type": "code",
   "execution_count": 3,
   "metadata": {},
   "outputs": [],
   "source": [
    "labels = np.loadtxt(\"../embeddings/target.csv\", dtype=np.int8)"
   ]
  },
  {
   "cell_type": "code",
   "execution_count": 4,
   "metadata": {},
   "outputs": [],
   "source": [
    "liste = sorted([d for d in os.listdir(\"../embeddings\") if os.path.isdir(\"../embeddings/\" + d)], key=lambda x: int(x))"
   ]
  },
  {
   "cell_type": "code",
   "execution_count": 5,
   "metadata": {},
   "outputs": [],
   "source": [
    "channels = [[d + \"/\" + file for file in os.listdir(\"../embeddings/\" + d)] for d in liste]"
   ]
  },
  {
   "cell_type": "code",
   "execution_count": 6,
   "metadata": {},
   "outputs": [],
   "source": [
    "NB_WORDS = np.max(labels) + 1"
   ]
  },
  {
   "cell_type": "code",
   "execution_count": 7,
   "metadata": {},
   "outputs": [
    {
     "data": {
      "application/vnd.jupyter.widget-view+json": {
       "model_id": "64112dae38694232ad461b372e223bca",
       "version_major": 2,
       "version_minor": 0
      },
      "text/plain": [
       "HBox(children=(IntProgress(value=0, max=26560), HTML(value='')))"
      ]
     },
     "metadata": {},
     "output_type": "display_data"
    },
    {
     "name": "stdout",
     "output_type": "stream",
     "text": [
      "\n"
     ]
    }
   ],
   "source": [
    "scores = []\n",
    "details = []\n",
    "pbar = tqdm_notebook(total=int(np.sum([len(c) for c in channels])))\n",
    "for i in range(len(liste)):\n",
    "    ch_scores = []\n",
    "    ch_details = []\n",
    "    for j in range(len(channels[i])):\n",
    "        means = [None for _ in range(NB_WORDS)]\n",
    "        count = [0 for _ in range(NB_WORDS)]\n",
    "        with open(\"../embeddings/\" +  channels[i][j], \"r\") as f:\n",
    "            reader = csv.reader(f)\n",
    "            for k, row in enumerate(reader):\n",
    "                x = np.array([float(r) for r in row])\n",
    "                if means[labels[k]] is None:\n",
    "                    means[labels[k]] = x\n",
    "                else:\n",
    "                    means[labels[k]] += x\n",
    "                count[labels[k]] += 1\n",
    "        \n",
    "        means = np.array([means[k] / count[k] for k in range(NB_WORDS)])\n",
    "        \n",
    "        inner_distance = [None for _ in range(NB_WORDS)]\n",
    "        \n",
    "        with open(\"../embeddings/\" + channels[i][j], \"r\") as f:\n",
    "            reader = csv.reader(f)\n",
    "            for k, row in enumerate(reader):\n",
    "                x = np.array([float(r) for r in row])\n",
    "                if inner_distance[labels[k]] is None:\n",
    "                    inner_distance[labels[k]] = np.inner(x - means[labels[k]], x - means[labels[k]])\n",
    "                else:\n",
    "                    inner_distance[labels[k]] += np.inner(x - means[labels[k]], x - means[labels[k]])\n",
    "        \n",
    "        inner_distance = np.array([inner_distance[k] / count[k] for k in range(NB_WORDS)])\n",
    "        \n",
    "        outer_distance = np.zeros((NB_WORDS, NB_WORDS))\n",
    "        \n",
    "        min_outer = np.inf\n",
    "        for k in range(NB_WORDS):\n",
    "            for l in range(NB_WORDS):\n",
    "                dist = np.inner(means[k] - means[l], means[k] - means[l])\n",
    "                if dist < min_outer and k != l:\n",
    "                    min_outer = dist\n",
    "                outer_distance[k,l] = dist\n",
    "        \n",
    "        ch_scores.append(min_outer / np.max(inner_distance))\n",
    "        \n",
    "        ch_details.append({\n",
    "            \"means\": means,\n",
    "            \"inner\": inner_distance,\n",
    "            \"outer\": outer_distance\n",
    "        })\n",
    "        pbar.update(1)\n",
    "        \n",
    "    scores.append(ch_scores)\n",
    "    details.append(ch_details)\n",
    "                \n",
    "pbar.close()           "
   ]
  },
  {
   "cell_type": "code",
   "execution_count": 8,
   "metadata": {},
   "outputs": [
    {
     "data": {
      "image/png": "[encoded data removed]",
      "text/plain": [
       "<Figure size 432x288 with 1 Axes>"
      ]
     },
     "metadata": {},
     "output_type": "display_data"
    }
   ],
   "source": [
    "plt.plot([np.max(s) for s in scores])\n",
    "plt.plot([np.mean(s) for s in scores])\n",
    "plt.plot([np.min(s) for s in scores])\n",
    "plt.show()"
   ]
  },
  {
   "cell_type": "code",
   "execution_count": 9,
   "metadata": {},
   "outputs": [],
   "source": [
    "i_max = np.argmax([np.max(s) for s in scores])\n",
    "j_max = np.argmax(scores[i_max])"
   ]
  },
  {
   "cell_type": "code",
   "execution_count": 10,
   "metadata": {},
   "outputs": [
    {
     "data": {
      "text/plain": [
       "{'means': array([[ 0.04029039, -0.03676265, -0.06086512, -0.05390608, -0.05481697,\n",
       "         -0.0117073 , -0.00923775, -0.02807629, -0.05302605, -0.03519315,\n",
       "         -0.01038889, -0.033282  , -0.04487957, -0.06478451, -0.05590344,\n",
       "         -0.05335381],\n",
       "        [ 0.088095  , -0.01822767, -0.05456353, -0.09544735, -0.04459353,\n",
       "          0.02048981, -0.00638178, -0.08793949, -0.03737051,  0.01975135,\n",
       "          0.03847416, -0.08240661, -0.04669156, -0.01870838, -0.01348326,\n",
       "         -0.07375345],\n",
       "        [ 0.01252509, -0.03216474, -0.05495809, -0.05541478, -0.04410916,\n",
       "          0.03837916,  0.01199008, -0.05731449, -0.03692277,  0.01959977,\n",
       "          0.01816929, -0.05141298, -0.03340416, -0.01429645, -0.05656795,\n",
       "         -0.08596411]]),\n",
       " 'inner': array([0.05105406, 0.05262783, 0.04812616]),\n",
       " 'outer': array([[0.        , 0.02153387, 0.01290851],\n",
       "        [0.02153387, 0.        , 0.01267802],\n",
       "        [0.01290851, 0.01267802, 0.        ]])}"
      ]
     },
     "execution_count": 10,
     "metadata": {},
     "output_type": "execute_result"
    }
   ],
   "source": [
    "details[i_max][j_max]"
   ]
  },
  {
   "cell_type": "code",
   "execution_count": 11,
   "metadata": {},
   "outputs": [
    {
     "data": {
      "text/plain": [
       "0.21978778740994098"
      ]
     },
     "execution_count": 11,
     "metadata": {},
     "output_type": "execute_result"
    }
   ],
   "source": [
    "i = 27\n",
    "j = np.argmax(scores[i])\n",
    "scores[i][j]"
   ]
  },
  {
   "cell_type": "code",
   "execution_count": 12,
   "metadata": {},
   "outputs": [
    {
     "data": {
      "text/plain": [
       "{'means': array([[-0.05707329, -0.02915685, -0.03502619, -0.01722032, -0.02934259,\n",
       "          0.00777362, -0.04654155, -0.12935834, -0.18892331, -0.1330025 ,\n",
       "         -0.13186908, -0.16064647, -0.1355929 , -0.10487025, -0.17364292,\n",
       "         -0.09718999, -0.12344784, -0.13182106, -0.13423251, -0.16904535,\n",
       "         -0.09955455, -0.1229465 , -0.08531048, -0.07836803, -0.06610433,\n",
       "         -0.06497242, -0.0462165 , -0.08896755, -0.19194081, -0.23166452,\n",
       "         -0.21285258, -0.25413228, -0.27367231, -0.22015812, -0.16885601,\n",
       "         -0.1637133 ,  0.00864304, -0.0617801 , -0.04576126, -0.05644257,\n",
       "         -0.03248154, -0.08255146, -0.12961691, -0.19717277, -0.14071038,\n",
       "         -0.13581104, -0.16462857, -0.13838206, -0.10472946, -0.11821754,\n",
       "         -0.11121429, -0.11569645, -0.12805174, -0.13906017, -0.15930974,\n",
       "         -0.11559179],\n",
       "        [-0.12918173, -0.00736536, -0.02412089, -0.02569787, -0.04884626,\n",
       "         -0.05643117, -0.06444407, -0.13571332, -0.08917337, -0.14283547,\n",
       "         -0.17438834, -0.14692261, -0.16441128, -0.09685073, -0.21581532,\n",
       "         -0.20164926, -0.15697618, -0.12425944, -0.09227472, -0.06580948,\n",
       "         -0.07899918, -0.13352824, -0.00688209, -0.03325521, -0.05753087,\n",
       "         -0.10710663, -0.10018755, -0.08922139, -0.15595132, -0.22457016,\n",
       "         -0.2494195 , -0.20040262, -0.21285349, -0.19422973, -0.11798699,\n",
       "         -0.20157435, -0.07248523, -0.05362581, -0.02297473, -0.03103343,\n",
       "         -0.02970483, -0.07905851, -0.1363472 , -0.09163775, -0.14542522,\n",
       "         -0.18116435, -0.15220786, -0.17729819, -0.09872153, -0.14989763,\n",
       "         -0.17391256, -0.15580527, -0.11998144, -0.10837066, -0.10575545,\n",
       "         -0.11369039],\n",
       "        [-0.07948605,  0.00108435, -0.01548695, -0.00751866, -0.02400395,\n",
       "         -0.04603382, -0.06822924, -0.15243363, -0.17959585, -0.21192788,\n",
       "         -0.19825316, -0.18755855, -0.22258361, -0.13735323, -0.18082317,\n",
       "         -0.09155441, -0.11206931, -0.082062  , -0.08124345, -0.08548564,\n",
       "         -0.08076814, -0.10901138, -0.03317371, -0.05117224, -0.0361418 ,\n",
       "         -0.06236494, -0.10291271, -0.11738141, -0.23623286, -0.24896431,\n",
       "         -0.23190045, -0.24639991, -0.21601165, -0.21749854, -0.11251936,\n",
       "         -0.12377489,  0.01449912, -0.03914581, -0.00362633, -0.02674369,\n",
       "         -0.02465703, -0.08603362, -0.15451875, -0.19382346, -0.21654491,\n",
       "         -0.20449443, -0.19129706, -0.22744436, -0.14470937, -0.12788312,\n",
       "         -0.10294497, -0.10719427, -0.10212253, -0.08798924, -0.10881322,\n",
       "         -0.09760633]]),\n",
       " 'inner': array([0.36223929, 0.38151681, 0.40534731]),\n",
       " 'outer': array([[0.        , 0.11062265, 0.08909039],\n",
       "        [0.11062265, 0.        , 0.10244626],\n",
       "        [0.08909039, 0.10244626, 0.        ]])}"
      ]
     },
     "execution_count": 12,
     "metadata": {},
     "output_type": "execute_result"
    }
   ],
   "source": [
    "details[i][j]"
   ]
  },
  {
   "cell_type": "code",
   "execution_count": 13,
   "metadata": {},
   "outputs": [
    {
     "data": {
      "text/plain": [
       "(44, 212)"
      ]
     },
     "execution_count": 13,
     "metadata": {},
     "output_type": "execute_result"
    }
   ],
   "source": [
    "i_max, j_max"
   ]
  },
  {
   "cell_type": "code",
   "execution_count": null,
   "metadata": {},
   "outputs": [],
   "source": []
  }
 ],
 "metadata": {
  "colab": {
   "include_colab_link": true,
   "name": "Untitled9.ipynb",
   "provenance": [],
   "version": "0.3.2"
  },
  "kernelspec": {
   "display_name": "Python 3",
   "language": "python",
   "name": "python3"
  },
  "language_info": {
   "codemirror_mode": {
    "name": "ipython",
    "version": 3
   },
   "file_extension": ".py",
   "mimetype": "text/x-python",
   "name": "python",
   "nbconvert_exporter": "python",
   "pygments_lexer": "ipython3",
   "version": "3.6.2"
  }
 },
 "nbformat": 4,
 "nbformat_minor": 1
}
